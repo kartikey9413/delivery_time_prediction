{
  "nbformat": 4,
  "nbformat_minor": 0,
  "metadata": {
    "colab": {
      "provenance": []
    },
    "kernelspec": {
      "name": "python3",
      "display_name": "Python 3"
    },
    "language_info": {
      "name": "python"
    }
  },
  "cells": [
    {
      "cell_type": "markdown",
      "source": [
        "# **Deploying model on FLask App**"
      ],
      "metadata": {
        "id": "AkQ7CDaM3E1_"
      }
    },
    {
      "cell_type": "code",
      "execution_count": 1,
      "metadata": {
        "colab": {
          "base_uri": "https://localhost:8080/",
          "height": 34
        },
        "id": "RWPxqgt93EWx",
        "outputId": "f05171af-6a19-4cf4-f63a-4727e72029c3"
      },
      "outputs": [
        {
          "output_type": "stream",
          "name": "stdout",
          "text": [
            "https://3ptu6ergm1w-496ff2e9c6d22116-5000-colab.googleusercontent.com/\n"
          ]
        }
      ],
      "source": [
        "from google.colab.output import eval_js\n",
        "print(eval_js(\"google.colab.kernel.proxyPort(5000)\"))"
      ]
    },
    {
      "cell_type": "code",
      "source": [
        "import numpy as np\n",
        "from flask import Flask, request, render_template\n",
        "import pickle\n",
        "\n",
        "app = Flask(__name__, template_folder='/content/templates', static_folder='/content/static')\n",
        "model = pickle.load(open('/content/model.pkl','rb'))\n",
        "\n",
        "@app.route('/')\n",
        "def home():\n",
        "    return render_template(\"index.html\")\n",
        "\n",
        "@app.route(\"/predict\",methods = [\"POST\"])\n",
        "def predict():\n",
        "    Delivery_person_Age = int(request.form[\"Delivery_person_Age\"])\n",
        "    Delivery_person_Ratings = float(request.form[\"Delivery_person_Ratings\"])\n",
        "    distance = int(request.form[\"distance\"])\n",
        "    features = np.array([[Delivery_person_Age,Delivery_person_Ratings,distance]])\n",
        "\n",
        "    prediction = model.predict(features)\n",
        "    output = np.round(prediction[0], 2)\n",
        "    return render_template('index.html', prediction_text='Predicted Delivery Time in Minutes = {}'.format(output))\n",
        "\n",
        "\n",
        "if __name__==\"__main__\":\n",
        "   app.run()"
      ],
      "metadata": {
        "colab": {
          "base_uri": "https://localhost:8080/"
        },
        "id": "9TMJhC-947z6",
        "outputId": "0a55a38a-a038-450d-ca4c-e0096c1420e0"
      },
      "execution_count": null,
      "outputs": [
        {
          "output_type": "stream",
          "name": "stdout",
          "text": [
            " * Serving Flask app '__main__'\n",
            " * Debug mode: off\n"
          ]
        },
        {
          "output_type": "stream",
          "name": "stderr",
          "text": [
            "INFO:werkzeug:\u001b[31m\u001b[1mWARNING: This is a development server. Do not use it in a production deployment. Use a production WSGI server instead.\u001b[0m\n",
            " * Running on http://127.0.0.1:5000\n",
            "INFO:werkzeug:\u001b[33mPress CTRL+C to quit\u001b[0m\n",
            "INFO:werkzeug:127.0.0.1 - - [10/Feb/2024 12:13:08] \"GET / HTTP/1.1\" 200 -\n",
            "INFO:werkzeug:127.0.0.1 - - [10/Feb/2024 12:13:09] \"GET /static/styles.css HTTP/1.1\" 200 -\n",
            "INFO:werkzeug:127.0.0.1 - - [10/Feb/2024 12:13:09] \"\u001b[33mGET /favicon.ico HTTP/1.1\u001b[0m\" 404 -\n"
          ]
        },
        {
          "output_type": "stream",
          "name": "stdout",
          "text": [
            "1/1 [==============================] - 1s 734ms/step\n"
          ]
        },
        {
          "output_type": "stream",
          "name": "stderr",
          "text": [
            "INFO:werkzeug:127.0.0.1 - - [10/Feb/2024 12:13:15] \"POST /predict HTTP/1.1\" 200 -\n",
            "INFO:werkzeug:127.0.0.1 - - [10/Feb/2024 12:13:15] \"GET /static/styles.css HTTP/1.1\" 200 -\n",
            "INFO:werkzeug:127.0.0.1 - - [10/Feb/2024 12:13:16] \"\u001b[33mGET /favicon.ico HTTP/1.1\u001b[0m\" 404 -\n"
          ]
        },
        {
          "output_type": "stream",
          "name": "stdout",
          "text": [
            "1/1 [==============================] - 0s 20ms/step\n"
          ]
        },
        {
          "output_type": "stream",
          "name": "stderr",
          "text": [
            "INFO:werkzeug:127.0.0.1 - - [10/Feb/2024 12:14:46] \"POST /predict HTTP/1.1\" 200 -\n",
            "INFO:werkzeug:127.0.0.1 - - [10/Feb/2024 12:14:47] \"GET /static/styles.css HTTP/1.1\" 200 -\n",
            "INFO:werkzeug:127.0.0.1 - - [10/Feb/2024 12:14:47] \"\u001b[33mGET /favicon.ico HTTP/1.1\u001b[0m\" 404 -\n"
          ]
        },
        {
          "output_type": "stream",
          "name": "stdout",
          "text": [
            "1/1 [==============================] - 0s 19ms/step\n"
          ]
        },
        {
          "output_type": "stream",
          "name": "stderr",
          "text": [
            "INFO:werkzeug:127.0.0.1 - - [10/Feb/2024 12:14:59] \"POST /predict HTTP/1.1\" 200 -\n",
            "INFO:werkzeug:127.0.0.1 - - [10/Feb/2024 12:15:00] \"GET /static/styles.css HTTP/1.1\" 200 -\n",
            "INFO:werkzeug:127.0.0.1 - - [10/Feb/2024 12:15:00] \"\u001b[33mGET /favicon.ico HTTP/1.1\u001b[0m\" 404 -\n"
          ]
        }
      ]
    }
  ]
}